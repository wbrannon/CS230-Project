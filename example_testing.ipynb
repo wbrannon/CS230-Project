{
 "cells": [
  {
   "cell_type": "code",
   "execution_count": 30,
   "metadata": {},
   "outputs": [],
   "source": [
    "using AutomotiveDrivingModels\n",
    "using AutoViz\n",
    "include(\"example_2d_driver.jl\")\n",
    "include(\"example_lane_changer.jl\")"
   ]
  },
  {
   "cell_type": "code",
   "execution_count": 2,
   "metadata": {},
   "outputs": [
    {
     "name": "stdout",
     "output_type": "stream",
     "text": [
      "((roadway[1]).lanes[1]).curve = CurvePt{Float64}[CurvePt({0.000, 0.000, 0.000}, 0.000, NaN, NaN), CurvePt({200.000, 0.000, 0.000}, 200.000, NaN, NaN)]\n",
      "get_posG(car.state.posF, roadway) = VecSE2({30.000, 9.000}, 0.000)\n"
     ]
    },
    {
     "data": {
      "image/png": "[encoded data removed]",
      "text/plain": [
       "Cairo.CairoSurfaceBase{UInt32}(Ptr{Nothing} @0x00007fbf063cfd00, 1000.0, 100.0)"
      ]
     },
     "execution_count": 2,
     "metadata": {},
     "output_type": "execute_result"
    }
   ],
   "source": [
    "nlanes = 4\n",
    "road_length = 300.0 # [meters]\n",
    "roadway = gen_straight_roadway(nlanes, road_length)\n",
    "\n",
    "# Define car state\n",
    "posG = VecSE2(30.0, 0.0, 0.0)\n",
    "v = 10.0\n",
    "lanetag = LaneTag(1,4) # 1st (and only currently) road segment and 2nd lane\n",
    "# lanetag = roadway[1].lanes[2].tag\n",
    "curve = roadway[1].lanes[1].curve\n",
    "lane= Lane(lanetag, curve)\n",
    "posF = Frenet(posG, lane, roadway)\n",
    "\n",
    "car_initial_state = VehicleState(posF, roadway, v)\n",
    "car = Vehicle(car_initial_state, VehicleDef(), 1)\n",
    "@show roadway[1].lanes[1].curve\n",
    "lane = get_lane(roadway, car)\n",
    "# @show lane.tag\n",
    "@show get_posG(car.state.posF, roadway)\n",
    "# car.state.posF.roadind.tag = LaneTag(1,2)\n",
    "scene = Scene()\n",
    "push!(scene, car)\n",
    "\n",
    "cam = StaticCamera(VecE2(100.0,0.0), 4.75)\n",
    "render(scene, roadway, cam=cam, canvas_height=100)"
   ]
  },
  {
   "cell_type": "code",
   "execution_count": 87,
   "metadata": {},
   "outputs": [
    {
     "data": {
      "text/plain": [
       "Scene(with 5 cars)"
      ]
     },
     "execution_count": 87,
     "metadata": {},
     "output_type": "execute_result"
    }
   ],
   "source": [
    "scene = Scene()\n",
    "\n",
    "# car 1 - lane 1\n",
    "posG1 = VecSE2(60.0, 0.0, 0.0)\n",
    "posF1 = Frenet(posG1, Lane(LaneTag(1,1), curve), roadway)\n",
    "v1 = 15.0\n",
    "initial_state_1 = VehicleState(posF1, roadway, v1)\n",
    "car1 = Vehicle(initial_state_1, VehicleDef(), 1)\n",
    "\n",
    "# car 2 - lane 2\n",
    "posG2 = VecSE2(80.0, 0.0, 0.0)\n",
    "posF2 = Frenet(posG2, Lane(LaneTag(1,2), curve), roadway)\n",
    "v2 = 18.0\n",
    "initial_state_2 = VehicleState(posF2, roadway, v2)\n",
    "car2 = Vehicle(initial_state_2, VehicleDef(), 2)\n",
    "\n",
    "# car 3 - lane 3\n",
    "posG3 = VecSE2(40.0, 0.0, 0.0)\n",
    "posF3 = Frenet(posG3, Lane(LaneTag(1,3), curve), roadway)\n",
    "v3 = 10.0\n",
    "initial_state_3 = VehicleState(posF3, roadway, v3)\n",
    "car3 = Vehicle(initial_state_3, VehicleDef(), 3)\n",
    "\n",
    "# car 4 - lane 4\n",
    "posG4 = VecSE2(100.0, 0.0, 0.0)\n",
    "posF4 = Frenet(posG4, Lane(LaneTag(1,4), curve), roadway)\n",
    "v4 = 10.0\n",
    "initial_state_4 = VehicleState(posF4, roadway, v4)\n",
    "car4 = Vehicle(initial_state_4, VehicleDef(), 4)\n",
    "\n",
    "# introduce 2d driver model position (hope is that it exhibits lane-changing maneuvers)\n",
    "posG5 = VecSE2(5.0, 0.0, 0.0)\n",
    "posF5 = Frenet(posG5, Lane(LaneTag(1,3), curve), roadway)\n",
    "v5 = 45.0\n",
    "initial_state_5 = VehicleState(posF5, roadway, v5)\n",
    "car5 = Vehicle(initial_state_5, VehicleDef(), 5)\n",
    "\n",
    "push!(scene, car1)\n",
    "push!(scene, car2)\n",
    "push!(scene, car3)\n",
    "push!(scene, car4)\n",
    "push!(scene, car5)"
   ]
  },
  {
   "cell_type": "code",
   "execution_count": 88,
   "metadata": {},
   "outputs": [
    {
     "data": {
      "image/png": "[encoded data removed]",
      "text/plain": [
       "Cairo.CairoSurfaceBase{UInt32}(Ptr{Nothing} @0x00007fbf068f9550, 1000.0, 100.0)"
      ]
     },
     "execution_count": 88,
     "metadata": {},
     "output_type": "execute_result"
    }
   ],
   "source": [
    "cam = StaticCamera(VecE2(100.0,0.0), 4.75)\n",
    "render(scene, roadway, cam=cam, canvas_height=100)"
   ]
  },
  {
   "cell_type": "code",
   "execution_count": 89,
   "metadata": {},
   "outputs": [
    {
     "data": {
      "text/plain": [
       "Tim2DDriver(SceneRecord(nscenes=0), IntelligentDriverModel\n",
       "  a: Float64 NaN\n",
       "  σ: Float64 NaN\n",
       "  k_spd: Float64 1.0\n",
       "  δ: Float64 4.0\n",
       "  T: Float64 1.5\n",
       "  v_des: Float64 29.0\n",
       "  s_min: Float64 5.0\n",
       "  a_max: Float64 3.0\n",
       "  d_cmf: Float64 2.0\n",
       "  d_max: Float64 9.0\n",
       ", ProportionalLaneTracker(NaN, NaN, 3.0, 2.0), TimLaneChanger(0, SceneRecord(nscenes=0), 29.0, 50.0, 10.0, 10.0))"
      ]
     },
     "execution_count": 89,
     "metadata": {},
     "output_type": "execute_result"
    }
   ],
   "source": [
    "# Define driving models\n",
    "models = Dict{Int, DriverModel}()\n",
    "models[1] = IntelligentDriverModel(v_des=car1.state.v) # go at same speed for time being\n",
    "models[2] = IntelligentDriverModel(v_des=car2.state.v)\n",
    "models[3] = IntelligentDriverModel(v_des=car3.state.v)\n",
    "models[4] = IntelligentDriverModel(v_des=car4.state.v)\n",
    "models[5] = Tim2DDriver(0.1)"
   ]
  },
  {
   "cell_type": "code",
   "execution_count": 90,
   "metadata": {},
   "outputs": [
    {
     "data": {
      "text/plain": [
       "101-element Array{Frame{Entity{VehicleState,VehicleDef,Int64}},1}:\n",
       " Scene(with 5 cars)\n",
       " Scene(with 5 cars)\n",
       " Scene(with 5 cars)\n",
       " Scene(with 5 cars)\n",
       " Scene(with 5 cars)\n",
       " Scene(with 5 cars)\n",
       " Scene(with 5 cars)\n",
       " Scene(with 5 cars)\n",
       " Scene(with 5 cars)\n",
       " Scene(with 5 cars)\n",
       " Scene(with 5 cars)\n",
       " Scene(with 5 cars)\n",
       " Scene(with 5 cars)\n",
       " ⋮                 \n",
       " Scene(with 5 cars)\n",
       " Scene(with 5 cars)\n",
       " Scene(with 5 cars)\n",
       " Scene(with 5 cars)\n",
       " Scene(with 5 cars)\n",
       " Scene(with 5 cars)\n",
       " Scene(with 5 cars)\n",
       " Scene(with 5 cars)\n",
       " Scene(with 5 cars)\n",
       " Scene(with 5 cars)\n",
       " Scene(with 5 cars)\n",
       " Scene(with 5 cars)"
      ]
     },
     "execution_count": 90,
     "metadata": {},
     "output_type": "execute_result"
    }
   ],
   "source": [
    "# make simulation\n",
    "timestep = 0.1\n",
    "nticks = 100\n",
    "scenes = simulate!(scene, roadway, models, nticks, timestep)"
   ]
  },
  {
   "cell_type": "code",
   "execution_count": 91,
   "metadata": {},
   "outputs": [
    {
     "data": {
      "text/plain": [
       "animate_record (generic function with 2 methods)"
      ]
     },
     "execution_count": 91,
     "metadata": {},
     "output_type": "execute_result"
    }
   ],
   "source": [
    "using Reel\n",
    "function animate_record(scenes::Vector{Scene},dt::Float64, roadway::Roadway{Float64}, cam=FitToContentCamera(0.0))\n",
    "    duration =length(scenes)*dt::Float64\n",
    "    fps = Int(1/dt)\n",
    "    function render_rec(t, dt)\n",
    "        frame_index = Int(floor(t/dt)) + 1\n",
    "        return render(scenes[frame_index], roadway, cam=cam)\n",
    "    end\n",
    "    return duration, fps, render_rec\n",
    "end"
   ]
  },
  {
   "cell_type": "code",
   "execution_count": 92,
   "metadata": {},
   "outputs": [
    {
     "data": {
      "text/plain": [
       "\"example_lane_change.mp4\""
      ]
     },
     "execution_count": 92,
     "metadata": {},
     "output_type": "execute_result"
    }
   ],
   "source": [
    "duration, fps, render_hist = animate_record(scenes, timestep, roadway)\n",
    "film = roll(render_hist, fps = fps, duration = duration)\n",
    "write(\"example_lane_change.mp4\", film)"
   ]
  },
  {
   "cell_type": "code",
   "execution_count": null,
   "metadata": {},
   "outputs": [],
   "source": []
  }
 ],
 "metadata": {
  "@webio": {
   "lastCommId": null,
   "lastKernelId": null
  },
  "kernelspec": {
   "display_name": "Julia 1.2.0",
   "language": "julia",
   "name": "julia-1.2"
  },
  "language_info": {
   "file_extension": ".jl",
   "mimetype": "application/julia",
   "name": "julia",
   "version": "1.2.0"
  }
 },
 "nbformat": 4,
 "nbformat_minor": 2
}
